{
 "cells": [
  {
   "cell_type": "code",
   "execution_count": 1,
   "id": "3e4f316e",
   "metadata": {},
   "outputs": [],
   "source": [
    "import numpy as np\n",
    "import matplotlib.pyplot as plt\n",
    "\n",
    "ph = np.load('Photon.npy')\n",
    "ele = np.load('Electron.npy')\n",
    "pi0 = np.load('Pizero.npy')\n",
    "pipm = np.load('Piplusminus.npy')"
   ]
  },
  {
   "cell_type": "code",
   "execution_count": 2,
   "id": "1dd7f051",
   "metadata": {},
   "outputs": [
    {
     "data": {
      "text/plain": [
       "(100000, 323)"
      ]
     },
     "execution_count": 2,
     "metadata": {},
     "output_type": "execute_result"
    }
   ],
   "source": [
    "data = np.vstack((ph[:100000,:],ele[:100000,:],pi0[:100000,:],pipm[:100000,:]))\n",
    "datatest = np.vstack((ph[100000:125000,:],ele[100000:125000,:],pi0[100000:125000,:],pipm[100000:125000,:]))\n",
    "datatest.shape"
   ]
  },
  {
   "cell_type": "code",
   "execution_count": 3,
   "id": "d2ac8cdd",
   "metadata": {},
   "outputs": [],
   "source": [
    "truez = data[:,2]\n",
    "psb = data[:,20:83]\n",
    "emb1 = data[:,83:134]\n",
    "emb2 = data[:,134:197]\n",
    "emb3 = data[:,197:260]                   \n",
    "hab1 = data[:,260:]\n",
    "\n",
    "# sum of all cells\n",
    "cells_sum = np.sum(data[:,20:],axis=1).reshape(-1,1)\n",
    "\n",
    "# sum of layers in phi\n",
    "psb_sum = np.sum(psb.reshape(-1,7,9),axis=1)\n",
    "emb1_sum = np.sum(emb1.reshape(-1,3,17),axis=1)\n",
    "emb2_sum = np.sum(emb2.reshape(-1,7,9),axis=1)\n",
    "emb3_sum = np.sum(emb3.reshape(-1,7,9),axis=1)\n",
    "hab1_sum = np.sum(hab1.reshape(-1,7,9),axis=1)\n",
    "\n",
    "# normalised sums\n",
    "psb_nsum = psb_sum / cells_sum\n",
    "emb1_nsum = emb1_sum / cells_sum\n",
    "emb2_nsum = emb2_sum / cells_sum\n",
    "emb3_nsum = emb3_sum / cells_sum\n",
    "hab1_nsum = hab1_sum / cells_sum\n",
    "\n",
    "# center eta of layers\n",
    "psb_eta = data[:,6]\n",
    "emb1_eta = data[:,8]\n",
    "emb2_eta = data[:,10]\n",
    "emb3_eta = data[:,12]\n",
    "hab1_eta = data[:,14]\n",
    "differ1 = psb_eta - emb1_eta\n",
    "differ2 = emb1_eta - emb2_eta\n",
    "differ3 = emb2_eta - emb3_eta\n",
    "differ4 = emb3_eta - hab1_eta"
   ]
  },
  {
   "cell_type": "code",
   "execution_count": 4,
   "id": "2957581e",
   "metadata": {},
   "outputs": [],
   "source": [
    "train1 = np.column_stack((psb_nsum[:,3],psb_nsum[:,4],psb_nsum[:,5],emb1_nsum[:,7],emb1_nsum[:,8],emb1_nsum[:,9],\n",
    "                          emb2_nsum[:,3],emb2_nsum[:,4],emb2_nsum[:,5],emb1_eta,differ1,differ2))\n",
    "\n",
    "train2 = np.column_stack((psb_nsum,emb1_nsum,emb2_nsum,emb3_nsum,hab1_nsum,\n",
    "                              psb_eta.reshape(-1,1),emb1_eta.reshape(-1,1),\n",
    "                          emb2_eta.reshape(-1,1),emb3_eta.reshape(-1,1),hab1_eta.reshape(-1,1),\n",
    "                              differ1.reshape(-1,1),differ2.reshape(-1,1),differ3.reshape(-1,1),differ4.reshape(-1,1)))\n",
    "\n",
    "train_target = truez"
   ]
  },
  {
   "cell_type": "code",
   "execution_count": 5,
   "id": "6c14ef08",
   "metadata": {},
   "outputs": [],
   "source": [
    "truezt = datatest[:,2]\n",
    "psbt = datatest[:,20:83]\n",
    "emb1t = datatest[:,83:134]\n",
    "emb2t = datatest[:,134:197]\n",
    "emb3t = datatest[:,197:260]                   \n",
    "hab1t = datatest[:,260:]\n",
    "\n",
    "# sum of all cells\n",
    "cells_sumt = np.sum(datatest[:,20:],axis=1).reshape(-1,1)\n",
    "\n",
    "# sum of layers in phi\n",
    "psb_sumt = np.sum(psbt.reshape(-1,7,9),axis=1)\n",
    "emb1_sumt = np.sum(emb1t.reshape(-1,3,17),axis=1)\n",
    "emb2_sumt = np.sum(emb2t.reshape(-1,7,9),axis=1)\n",
    "emb3_sumt = np.sum(emb3t.reshape(-1,7,9),axis=1)\n",
    "hab1_sumt = np.sum(hab1t.reshape(-1,7,9),axis=1)\n",
    "\n",
    "# normalised sums\n",
    "psb_nsumt = psb_sumt / cells_sumt\n",
    "emb1_nsumt = emb1_sumt / cells_sumt\n",
    "emb2_nsumt = emb2_sumt / cells_sumt\n",
    "emb3_nsumt = emb3_sumt / cells_sumt\n",
    "hab1_nsumt = hab1_sumt / cells_sumt\n",
    "\n",
    "# center eta of layers\n",
    "psb_etat = datatest[:,6]\n",
    "emb1_etat = datatest[:,8]\n",
    "emb2_etat = datatest[:,10]\n",
    "emb3_etat = datatest[:,12]\n",
    "hab1_etat = datatest[:,14]\n",
    "differ1t = psb_etat - emb1_etat\n",
    "differ2t = emb1_etat - emb2_etat\n",
    "differ3t = emb2_etat - emb3_etat\n",
    "differ4t = emb3_etat - hab1_etat"
   ]
  },
  {
   "cell_type": "code",
   "execution_count": 6,
   "id": "52bb61fe",
   "metadata": {},
   "outputs": [],
   "source": [
    "test1 = np.column_stack((psb_nsumt[:,3],psb_nsumt[:,4],psb_nsumt[:,5],emb1_nsumt[:,7],emb1_nsumt[:,8],emb1_nsumt[:,9],\n",
    "                          emb2_nsumt[:,3],emb2_nsumt[:,4],emb2_nsumt[:,5],emb1_etat,differ1t,differ2t))\n",
    "\n",
    "test2 = np.column_stack((psb_nsumt,emb1_nsumt,emb2_nsumt,emb3_nsumt,hab1_nsumt,\n",
    "                        psb_etat.reshape(-1,1),emb1_etat.reshape(-1,1),emb2_etat.reshape(-1,1),\n",
    "                         emb3_etat.reshape(-1,1),hab1_etat.reshape(-1,1),\n",
    "                        differ1t.reshape(-1,1),differ2t.reshape(-1,1),differ3t.reshape(-1,1),differ4t.reshape(-1,1)))\n",
    "\n",
    "test_target = truezt"
   ]
  },
  {
   "cell_type": "code",
   "execution_count": 7,
   "id": "9edb6fe8",
   "metadata": {},
   "outputs": [
    {
     "data": {
      "text/html": [
       "<style>#sk-container-id-1 {color: black;}#sk-container-id-1 pre{padding: 0;}#sk-container-id-1 div.sk-toggleable {background-color: white;}#sk-container-id-1 label.sk-toggleable__label {cursor: pointer;display: block;width: 100%;margin-bottom: 0;padding: 0.3em;box-sizing: border-box;text-align: center;}#sk-container-id-1 label.sk-toggleable__label-arrow:before {content: \"▸\";float: left;margin-right: 0.25em;color: #696969;}#sk-container-id-1 label.sk-toggleable__label-arrow:hover:before {color: black;}#sk-container-id-1 div.sk-estimator:hover label.sk-toggleable__label-arrow:before {color: black;}#sk-container-id-1 div.sk-toggleable__content {max-height: 0;max-width: 0;overflow: hidden;text-align: left;background-color: #f0f8ff;}#sk-container-id-1 div.sk-toggleable__content pre {margin: 0.2em;color: black;border-radius: 0.25em;background-color: #f0f8ff;}#sk-container-id-1 input.sk-toggleable__control:checked~div.sk-toggleable__content {max-height: 200px;max-width: 100%;overflow: auto;}#sk-container-id-1 input.sk-toggleable__control:checked~label.sk-toggleable__label-arrow:before {content: \"▾\";}#sk-container-id-1 div.sk-estimator input.sk-toggleable__control:checked~label.sk-toggleable__label {background-color: #d4ebff;}#sk-container-id-1 div.sk-label input.sk-toggleable__control:checked~label.sk-toggleable__label {background-color: #d4ebff;}#sk-container-id-1 input.sk-hidden--visually {border: 0;clip: rect(1px 1px 1px 1px);clip: rect(1px, 1px, 1px, 1px);height: 1px;margin: -1px;overflow: hidden;padding: 0;position: absolute;width: 1px;}#sk-container-id-1 div.sk-estimator {font-family: monospace;background-color: #f0f8ff;border: 1px dotted black;border-radius: 0.25em;box-sizing: border-box;margin-bottom: 0.5em;}#sk-container-id-1 div.sk-estimator:hover {background-color: #d4ebff;}#sk-container-id-1 div.sk-parallel-item::after {content: \"\";width: 100%;border-bottom: 1px solid gray;flex-grow: 1;}#sk-container-id-1 div.sk-label:hover label.sk-toggleable__label {background-color: #d4ebff;}#sk-container-id-1 div.sk-serial::before {content: \"\";position: absolute;border-left: 1px solid gray;box-sizing: border-box;top: 0;bottom: 0;left: 50%;z-index: 0;}#sk-container-id-1 div.sk-serial {display: flex;flex-direction: column;align-items: center;background-color: white;padding-right: 0.2em;padding-left: 0.2em;position: relative;}#sk-container-id-1 div.sk-item {position: relative;z-index: 1;}#sk-container-id-1 div.sk-parallel {display: flex;align-items: stretch;justify-content: center;background-color: white;position: relative;}#sk-container-id-1 div.sk-item::before, #sk-container-id-1 div.sk-parallel-item::before {content: \"\";position: absolute;border-left: 1px solid gray;box-sizing: border-box;top: 0;bottom: 0;left: 50%;z-index: -1;}#sk-container-id-1 div.sk-parallel-item {display: flex;flex-direction: column;z-index: 1;position: relative;background-color: white;}#sk-container-id-1 div.sk-parallel-item:first-child::after {align-self: flex-end;width: 50%;}#sk-container-id-1 div.sk-parallel-item:last-child::after {align-self: flex-start;width: 50%;}#sk-container-id-1 div.sk-parallel-item:only-child::after {width: 0;}#sk-container-id-1 div.sk-dashed-wrapped {border: 1px dashed gray;margin: 0 0.4em 0.5em 0.4em;box-sizing: border-box;padding-bottom: 0.4em;background-color: white;}#sk-container-id-1 div.sk-label label {font-family: monospace;font-weight: bold;display: inline-block;line-height: 1.2em;}#sk-container-id-1 div.sk-label-container {text-align: center;}#sk-container-id-1 div.sk-container {/* jupyter's `normalize.less` sets `[hidden] { display: none; }` but bootstrap.min.css set `[hidden] { display: none !important; }` so we also need the `!important` here to be able to override the default hidden behavior on the sphinx rendered scikit-learn.org. See: https://github.com/scikit-learn/scikit-learn/issues/21755 */display: inline-block !important;position: relative;}#sk-container-id-1 div.sk-text-repr-fallback {display: none;}</style><div id=\"sk-container-id-1\" class=\"sk-top-container\"><div class=\"sk-text-repr-fallback\"><pre>XGBRegressor(base_score=None, booster=None, callbacks=None,\n",
       "             colsample_bylevel=None, colsample_bynode=None,\n",
       "             colsample_bytree=None, device=None, early_stopping_rounds=None,\n",
       "             enable_categorical=False, eval_metric=None, feature_types=None,\n",
       "             gamma=None, grow_policy=None, importance_type=None,\n",
       "             interaction_constraints=None, learning_rate=0.2, max_bin=None,\n",
       "             max_cat_threshold=None, max_cat_to_onehot=None,\n",
       "             max_delta_step=None, max_depth=6, max_leaves=None,\n",
       "             min_child_weight=None, missing=nan, monotone_constraints=None,\n",
       "             multi_strategy=None, n_estimators=600, n_jobs=None,\n",
       "             num_parallel_tree=None, random_state=None, ...)</pre><b>In a Jupyter environment, please rerun this cell to show the HTML representation or trust the notebook. <br />On GitHub, the HTML representation is unable to render, please try loading this page with nbviewer.org.</b></div><div class=\"sk-container\" hidden><div class=\"sk-item\"><div class=\"sk-estimator sk-toggleable\"><input class=\"sk-toggleable__control sk-hidden--visually\" id=\"sk-estimator-id-1\" type=\"checkbox\" checked><label for=\"sk-estimator-id-1\" class=\"sk-toggleable__label sk-toggleable__label-arrow\">XGBRegressor</label><div class=\"sk-toggleable__content\"><pre>XGBRegressor(base_score=None, booster=None, callbacks=None,\n",
       "             colsample_bylevel=None, colsample_bynode=None,\n",
       "             colsample_bytree=None, device=None, early_stopping_rounds=None,\n",
       "             enable_categorical=False, eval_metric=None, feature_types=None,\n",
       "             gamma=None, grow_policy=None, importance_type=None,\n",
       "             interaction_constraints=None, learning_rate=0.2, max_bin=None,\n",
       "             max_cat_threshold=None, max_cat_to_onehot=None,\n",
       "             max_delta_step=None, max_depth=6, max_leaves=None,\n",
       "             min_child_weight=None, missing=nan, monotone_constraints=None,\n",
       "             multi_strategy=None, n_estimators=600, n_jobs=None,\n",
       "             num_parallel_tree=None, random_state=None, ...)</pre></div></div></div></div></div>"
      ],
      "text/plain": [
       "XGBRegressor(base_score=None, booster=None, callbacks=None,\n",
       "             colsample_bylevel=None, colsample_bynode=None,\n",
       "             colsample_bytree=None, device=None, early_stopping_rounds=None,\n",
       "             enable_categorical=False, eval_metric=None, feature_types=None,\n",
       "             gamma=None, grow_policy=None, importance_type=None,\n",
       "             interaction_constraints=None, learning_rate=0.2, max_bin=None,\n",
       "             max_cat_threshold=None, max_cat_to_onehot=None,\n",
       "             max_delta_step=None, max_depth=6, max_leaves=None,\n",
       "             min_child_weight=None, missing=nan, monotone_constraints=None,\n",
       "             multi_strategy=None, n_estimators=600, n_jobs=None,\n",
       "             num_parallel_tree=None, random_state=None, ...)"
      ]
     },
     "execution_count": 7,
     "metadata": {},
     "output_type": "execute_result"
    }
   ],
   "source": [
    "import xgboost as xgb\n",
    "\n",
    "# create the xgboost model\n",
    "model1 = xgb.XGBRegressor(\n",
    "    learning_rate=0.2,    # Controls the step size shrinkage\n",
    "    n_estimators=600,      # Number of boosting rounds or trees\n",
    "    max_depth=6,     # Maximum depth of a tree\n",
    "    objective='reg:squarederror')\n",
    "\n",
    "model1.fit(train1, train_target)\n",
    "\n",
    "# create the xgboost model\n",
    "model2 = xgb.XGBRegressor(\n",
    "    learning_rate=0.2,    # Controls the step size shrinkage\n",
    "    n_estimators=600,      # Number of boosting rounds or trees\n",
    "    max_depth=6,     # Maximum depth of a tree\n",
    "    objective='reg:squarederror')\n",
    "\n",
    "model2.fit(train2, train_target)\n"
   ]
  },
  {
   "cell_type": "code",
   "execution_count": 8,
   "id": "d0766730",
   "metadata": {},
   "outputs": [
    {
     "name": "stdout",
     "output_type": "stream",
     "text": [
      "119 ms ± 2.78 ms per loop (mean ± std. dev. of 7 runs, 10 loops each)\n"
     ]
    }
   ],
   "source": [
    "%timeit ypred1 = model1.predict(test1)"
   ]
  },
  {
   "cell_type": "code",
   "execution_count": 9,
   "id": "07d76952",
   "metadata": {},
   "outputs": [
    {
     "name": "stdout",
     "output_type": "stream",
     "text": [
      "128 ms ± 1.6 ms per loop (mean ± std. dev. of 7 runs, 10 loops each)\n"
     ]
    }
   ],
   "source": [
    "%timeit ypred2 = model2.predict(test2)"
   ]
  },
  {
   "cell_type": "code",
   "execution_count": 10,
   "id": "218e1126",
   "metadata": {},
   "outputs": [
    {
     "data": {
      "text/html": [
       "<style>#sk-container-id-2 {color: black;}#sk-container-id-2 pre{padding: 0;}#sk-container-id-2 div.sk-toggleable {background-color: white;}#sk-container-id-2 label.sk-toggleable__label {cursor: pointer;display: block;width: 100%;margin-bottom: 0;padding: 0.3em;box-sizing: border-box;text-align: center;}#sk-container-id-2 label.sk-toggleable__label-arrow:before {content: \"▸\";float: left;margin-right: 0.25em;color: #696969;}#sk-container-id-2 label.sk-toggleable__label-arrow:hover:before {color: black;}#sk-container-id-2 div.sk-estimator:hover label.sk-toggleable__label-arrow:before {color: black;}#sk-container-id-2 div.sk-toggleable__content {max-height: 0;max-width: 0;overflow: hidden;text-align: left;background-color: #f0f8ff;}#sk-container-id-2 div.sk-toggleable__content pre {margin: 0.2em;color: black;border-radius: 0.25em;background-color: #f0f8ff;}#sk-container-id-2 input.sk-toggleable__control:checked~div.sk-toggleable__content {max-height: 200px;max-width: 100%;overflow: auto;}#sk-container-id-2 input.sk-toggleable__control:checked~label.sk-toggleable__label-arrow:before {content: \"▾\";}#sk-container-id-2 div.sk-estimator input.sk-toggleable__control:checked~label.sk-toggleable__label {background-color: #d4ebff;}#sk-container-id-2 div.sk-label input.sk-toggleable__control:checked~label.sk-toggleable__label {background-color: #d4ebff;}#sk-container-id-2 input.sk-hidden--visually {border: 0;clip: rect(1px 1px 1px 1px);clip: rect(1px, 1px, 1px, 1px);height: 1px;margin: -1px;overflow: hidden;padding: 0;position: absolute;width: 1px;}#sk-container-id-2 div.sk-estimator {font-family: monospace;background-color: #f0f8ff;border: 1px dotted black;border-radius: 0.25em;box-sizing: border-box;margin-bottom: 0.5em;}#sk-container-id-2 div.sk-estimator:hover {background-color: #d4ebff;}#sk-container-id-2 div.sk-parallel-item::after {content: \"\";width: 100%;border-bottom: 1px solid gray;flex-grow: 1;}#sk-container-id-2 div.sk-label:hover label.sk-toggleable__label {background-color: #d4ebff;}#sk-container-id-2 div.sk-serial::before {content: \"\";position: absolute;border-left: 1px solid gray;box-sizing: border-box;top: 0;bottom: 0;left: 50%;z-index: 0;}#sk-container-id-2 div.sk-serial {display: flex;flex-direction: column;align-items: center;background-color: white;padding-right: 0.2em;padding-left: 0.2em;position: relative;}#sk-container-id-2 div.sk-item {position: relative;z-index: 1;}#sk-container-id-2 div.sk-parallel {display: flex;align-items: stretch;justify-content: center;background-color: white;position: relative;}#sk-container-id-2 div.sk-item::before, #sk-container-id-2 div.sk-parallel-item::before {content: \"\";position: absolute;border-left: 1px solid gray;box-sizing: border-box;top: 0;bottom: 0;left: 50%;z-index: -1;}#sk-container-id-2 div.sk-parallel-item {display: flex;flex-direction: column;z-index: 1;position: relative;background-color: white;}#sk-container-id-2 div.sk-parallel-item:first-child::after {align-self: flex-end;width: 50%;}#sk-container-id-2 div.sk-parallel-item:last-child::after {align-self: flex-start;width: 50%;}#sk-container-id-2 div.sk-parallel-item:only-child::after {width: 0;}#sk-container-id-2 div.sk-dashed-wrapped {border: 1px dashed gray;margin: 0 0.4em 0.5em 0.4em;box-sizing: border-box;padding-bottom: 0.4em;background-color: white;}#sk-container-id-2 div.sk-label label {font-family: monospace;font-weight: bold;display: inline-block;line-height: 1.2em;}#sk-container-id-2 div.sk-label-container {text-align: center;}#sk-container-id-2 div.sk-container {/* jupyter's `normalize.less` sets `[hidden] { display: none; }` but bootstrap.min.css set `[hidden] { display: none !important; }` so we also need the `!important` here to be able to override the default hidden behavior on the sphinx rendered scikit-learn.org. See: https://github.com/scikit-learn/scikit-learn/issues/21755 */display: inline-block !important;position: relative;}#sk-container-id-2 div.sk-text-repr-fallback {display: none;}</style><div id=\"sk-container-id-2\" class=\"sk-top-container\"><div class=\"sk-text-repr-fallback\"><pre>XGBRegressor(base_score=None, booster=None, callbacks=None,\n",
       "             colsample_bylevel=None, colsample_bynode=None,\n",
       "             colsample_bytree=None, device=None, early_stopping_rounds=None,\n",
       "             enable_categorical=False, eval_metric=None, feature_types=None,\n",
       "             gamma=None, grow_policy=None, importance_type=None,\n",
       "             interaction_constraints=None, learning_rate=0.2, max_bin=None,\n",
       "             max_cat_threshold=None, max_cat_to_onehot=None,\n",
       "             max_delta_step=None, max_depth=4, max_leaves=None,\n",
       "             min_child_weight=None, missing=nan, monotone_constraints=None,\n",
       "             multi_strategy=None, n_estimators=320, n_jobs=None,\n",
       "             num_parallel_tree=None, random_state=None, ...)</pre><b>In a Jupyter environment, please rerun this cell to show the HTML representation or trust the notebook. <br />On GitHub, the HTML representation is unable to render, please try loading this page with nbviewer.org.</b></div><div class=\"sk-container\" hidden><div class=\"sk-item\"><div class=\"sk-estimator sk-toggleable\"><input class=\"sk-toggleable__control sk-hidden--visually\" id=\"sk-estimator-id-2\" type=\"checkbox\" checked><label for=\"sk-estimator-id-2\" class=\"sk-toggleable__label sk-toggleable__label-arrow\">XGBRegressor</label><div class=\"sk-toggleable__content\"><pre>XGBRegressor(base_score=None, booster=None, callbacks=None,\n",
       "             colsample_bylevel=None, colsample_bynode=None,\n",
       "             colsample_bytree=None, device=None, early_stopping_rounds=None,\n",
       "             enable_categorical=False, eval_metric=None, feature_types=None,\n",
       "             gamma=None, grow_policy=None, importance_type=None,\n",
       "             interaction_constraints=None, learning_rate=0.2, max_bin=None,\n",
       "             max_cat_threshold=None, max_cat_to_onehot=None,\n",
       "             max_delta_step=None, max_depth=4, max_leaves=None,\n",
       "             min_child_weight=None, missing=nan, monotone_constraints=None,\n",
       "             multi_strategy=None, n_estimators=320, n_jobs=None,\n",
       "             num_parallel_tree=None, random_state=None, ...)</pre></div></div></div></div></div>"
      ],
      "text/plain": [
       "XGBRegressor(base_score=None, booster=None, callbacks=None,\n",
       "             colsample_bylevel=None, colsample_bynode=None,\n",
       "             colsample_bytree=None, device=None, early_stopping_rounds=None,\n",
       "             enable_categorical=False, eval_metric=None, feature_types=None,\n",
       "             gamma=None, grow_policy=None, importance_type=None,\n",
       "             interaction_constraints=None, learning_rate=0.2, max_bin=None,\n",
       "             max_cat_threshold=None, max_cat_to_onehot=None,\n",
       "             max_delta_step=None, max_depth=4, max_leaves=None,\n",
       "             min_child_weight=None, missing=nan, monotone_constraints=None,\n",
       "             multi_strategy=None, n_estimators=320, n_jobs=None,\n",
       "             num_parallel_tree=None, random_state=None, ...)"
      ]
     },
     "execution_count": 10,
     "metadata": {},
     "output_type": "execute_result"
    }
   ],
   "source": [
    "# create the xgboost model\n",
    "model3 = xgb.XGBRegressor(\n",
    "    learning_rate=0.2,    # Controls the step size shrinkage\n",
    "    n_estimators=320,      # Number of boosting rounds or trees\n",
    "    max_depth=4,     # Maximum depth of a tree\n",
    "    objective='reg:squarederror')\n",
    "\n",
    "model3.fit(train1, train_target)\n",
    "\n",
    "# create the xgboost model\n",
    "model4 = xgb.XGBRegressor(\n",
    "    learning_rate=0.2,    # Controls the step size shrinkage\n",
    "    n_estimators=320,      # Number of boosting rounds or trees\n",
    "    max_depth=4,     # Maximum depth of a tree\n",
    "    objective='reg:squarederror')\n",
    "\n",
    "model4.fit(train2, train_target)"
   ]
  },
  {
   "cell_type": "code",
   "execution_count": 11,
   "id": "43067b1e",
   "metadata": {},
   "outputs": [
    {
     "name": "stdout",
     "output_type": "stream",
     "text": [
      "38.6 ms ± 2.68 ms per loop (mean ± std. dev. of 7 runs, 10 loops each)\n"
     ]
    }
   ],
   "source": [
    "%timeit ypred3 = model3.predict(test1)"
   ]
  },
  {
   "cell_type": "code",
   "execution_count": 12,
   "id": "15f05337",
   "metadata": {},
   "outputs": [
    {
     "name": "stdout",
     "output_type": "stream",
     "text": [
      "42.3 ms ± 1.41 ms per loop (mean ± std. dev. of 7 runs, 10 loops each)\n"
     ]
    }
   ],
   "source": [
    "%timeit ypred4 = model4.predict(test2)"
   ]
  },
  {
   "cell_type": "code",
   "execution_count": null,
   "id": "900851d0",
   "metadata": {},
   "outputs": [],
   "source": []
  }
 ],
 "metadata": {
  "kernelspec": {
   "display_name": "Python 3 (ipykernel)",
   "language": "python",
   "name": "python3"
  },
  "language_info": {
   "codemirror_mode": {
    "name": "ipython",
    "version": 3
   },
   "file_extension": ".py",
   "mimetype": "text/x-python",
   "name": "python",
   "nbconvert_exporter": "python",
   "pygments_lexer": "ipython3",
   "version": "3.11.5"
  }
 },
 "nbformat": 4,
 "nbformat_minor": 5
}
